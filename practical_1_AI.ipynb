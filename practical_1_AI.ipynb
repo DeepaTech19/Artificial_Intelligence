{
 "cells": [
  {
   "cell_type": "code",
   "execution_count": 1,
   "id": "85231d5e",
   "metadata": {},
   "outputs": [
    {
     "name": "stdout",
     "output_type": "stream",
     "text": [
      "Smart Light is: ON\n"
     ]
    }
   ],
   "source": [
    "def smart_light(outside_light, human_presence):\n",
    "    if human_presence and not outside_light:\n",
    "        return \"ON\"\n",
    "    else:\n",
    "        return \"OFF\"\n",
    "\n",
    "outside_light = input(\"Is outside light available? (yes/no): \").strip().lower() == \"yes\"\n",
    "human_presence = input(\"Is human present in the room? (yes/no): \").strip().lower() == \"yes\"\n",
    "\n",
    "light_state = smart_light(outside_light, human_presence)\n",
    "print(f\"Smart Light is: {light_state}\")\n"
   ]
  }
 ],
 "metadata": {
  "kernelspec": {
   "display_name": "Python 3",
   "language": "python",
   "name": "python3"
  },
  "language_info": {
   "codemirror_mode": {
    "name": "ipython",
    "version": 3
   },
   "file_extension": ".py",
   "mimetype": "text/x-python",
   "name": "python",
   "nbconvert_exporter": "python",
   "pygments_lexer": "ipython3",
   "version": "3.13.5"
  }
 },
 "nbformat": 4,
 "nbformat_minor": 5
}
