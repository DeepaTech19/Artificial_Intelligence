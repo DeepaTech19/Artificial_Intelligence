{
 "cells": [
  {
   "cell_type": "code",
   "execution_count": 1,
   "id": "f66b640c",
   "metadata": {},
   "outputs": [
    {
     "name": "stdout",
     "output_type": "stream",
     "text": [
      "Vacuum Cleaner starting in Room A\n",
      "Cleaning Room A\n",
      "Room B is clean. Moving back to Room A\n",
      "Both rooms are clean now!\n"
     ]
    }
   ],
   "source": [
    "room_a = input(\"Is Room A dirty? (yes/no): \").strip().lower()\n",
    "room_b = input(\"Is Room B dirty? (yes/no): \").strip().lower()\n",
    "\n",
    "print(\"Vacuum Cleaner starting in Room A\")\n",
    "\n",
    "if room_a == \"yes\":\n",
    "    print(\"Cleaning Room A\")\n",
    "    room_a = \"no\"\n",
    "else:\n",
    "    print(\"Room A is clean. Moving to Room B\")\n",
    "\n",
    "if room_b == \"yes\":\n",
    "    print(\"Cleaning Room B\")\n",
    "    room_b = \"no\"\n",
    "else:\n",
    "    print(\"Room B is clean. Moving back to Room A\")\n",
    "\n",
    "if room_a == \"no\" and room_b == \"no\":\n",
    "    print(\"Both rooms are clean now!\")\n"
   ]
  }
 ],
 "metadata": {
  "kernelspec": {
   "display_name": "Python 3",
   "language": "python",
   "name": "python3"
  },
  "language_info": {
   "codemirror_mode": {
    "name": "ipython",
    "version": 3
   },
   "file_extension": ".py",
   "mimetype": "text/x-python",
   "name": "python",
   "nbconvert_exporter": "python",
   "pygments_lexer": "ipython3",
   "version": "3.13.5"
  }
 },
 "nbformat": 4,
 "nbformat_minor": 5
}
